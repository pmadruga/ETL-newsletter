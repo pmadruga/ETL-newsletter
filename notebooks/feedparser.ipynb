{
 "cells": [
  {
   "cell_type": "code",
   "execution_count": 2,
   "metadata": {},
   "outputs": [],
   "source": [
    "import feedparser\n",
    "import datetime\n",
    "import pandas as pd"
   ]
  },
  {
   "cell_type": "code",
   "execution_count": 3,
   "metadata": {},
   "outputs": [
    {
     "data": {
      "text/plain": [
       "[Timestamp('2022-08-22 11:50:10.063807', freq='D'),\n",
       " Timestamp('2022-08-23 11:50:10.063807', freq='D'),\n",
       " Timestamp('2022-08-24 11:50:10.063807', freq='D'),\n",
       " Timestamp('2022-08-25 11:50:10.063807', freq='D'),\n",
       " Timestamp('2022-08-26 11:50:10.063807', freq='D'),\n",
       " Timestamp('2022-08-27 11:50:10.063807', freq='D'),\n",
       " Timestamp('2022-08-28 11:50:10.063807', freq='D')]"
      ]
     },
     "execution_count": 3,
     "metadata": {},
     "output_type": "execute_result"
    }
   ],
   "source": [
    "def get_week_interval():\n",
    "    today = datetime.datetime.now()\n",
    "    todays_weekday = today.weekday()\n",
    "\n",
    "    # check if end_date is a sunday\n",
    "    # check if start_date is a monday\n",
    "    \n",
    "    end_date = today - datetime.timedelta(days=1 + todays_weekday)\n",
    "    start_date = end_date - datetime.timedelta(days=6)\n",
    "\n",
    "    return (start_date, end_date)\n",
    "\n",
    "\n",
    "# get all the dates in between and store them in a list\n",
    "def get_all_days_of_interval(start_date, end_date):\n",
    "    return [pd.to_datetime(item) for item in pd.date_range(start_date, end_date)]\n",
    "\n",
    "\n",
    "result = get_all_days_of_interval(*get_week_interval())\n",
    "\n",
    "result"
   ]
  },
  {
   "cell_type": "code",
   "execution_count": 4,
   "metadata": {},
   "outputs": [],
   "source": [
    "import time\n",
    "import feedparser\n",
    "import pandas as pd\n",
    "\n",
    "result = get_all_days_of_interval(*get_week_interval())\n",
    "\n",
    "\n",
    "def fetch_feeds(specific_url, blog_name):\n",
    "\n",
    "    uh = feedparser.parse(specific_url)\n",
    "    entries = []\n",
    "\n",
    "    for item in uh.entries:\n",
    "        item_date = pd.to_datetime(item.published).tz_localize(None)\n",
    "        first_date = result[0].tz_localize(None)\n",
    "        last_date = result[len(result)-1].tz_localize(None)\n",
    "\n",
    "        if (item_date > first_date) & (item_date < last_date):\n",
    "            date_formated = item_date.strftime('%y-%m-%d')\n",
    "\n",
    "            entries.append({'date': date_formated, 'title': item.title,\n",
    "                           'link': item.link, 'name': blog_name})\n",
    "\n",
    "    return entries"
   ]
  },
  {
   "cell_type": "code",
   "execution_count": 5,
   "metadata": {},
   "outputs": [],
   "source": [
    "def batch_fetch_feeds(feeds_dict, title):\n",
    "\n",
    "    all_feeds = []\n",
    "\n",
    "    for index, item in enumerate(feeds_dict):\n",
    "        posts_per_item = fetch_feeds(item['url'], item[\"blog_name\"])\n",
    "\n",
    "        all_feeds.append(posts_per_item)\n",
    "    return all_feeds\n"
   ]
  },
  {
   "cell_type": "code",
   "execution_count": 6,
   "metadata": {},
   "outputs": [
    {
     "data": {
      "text/plain": [
       "'Blogs\\n---\\n- Advancing conservation with AI-based facial recognition of turtles, _by [DeepMind](https://www.deepmind.com/blog/advancing-conservation-with-ai-based-facial-recognition-of-turtles)_ \\n- High-Definition Segmentation in Google Meet, _by [Google AI](http://ai.googleblog.com/2022/08/high-definition-segmentation-in-google.html)_ \\n- Using ML to Boost Engagement with a Maternal and Child Health Program in India, _by [Google AI](http://ai.googleblog.com/2022/08/using-ml-to-boost-engagement-with.html)_ \\n- UVQ: Measuring YouTube\\'s Perceptual Video Quality, _by [Google AI](http://ai.googleblog.com/2022/08/uvq-measuring-youtubes-perceptual-video.html)_ \\n- Our approach to alignment research, _by [Open AI](https://openai.com/blog/our-approach-to-alignment-research/)_ \\n- Using data science to help improve NFL quarterback passing scores, _by [Amazon Science](https://www.amazon.science/working-at-amazon/elena-ehrlich-data-science-nfl-quarterback-passing-ratings)_ \\n- The science behind NFL Next Gen Stats’ new passing metric, _by [Amazon Science](https://www.amazon.science/blog/the-science-behind-nfl-next-gen-stats-new-passing-metric)_ \\n- Amazon product query competition draws more than 9,200 submissions, _by [Amazon Science](https://www.amazon.science/blog/amazon-product-query-competition-draws-more-than-9-200-submissions)_ \\n- The science behind grouping package deliveries, _by [Amazon Science](https://www.amazon.science/latest-news/the-science-behind-grouping-amazon-package-deliveries)_ \\n- Why Amazon Scholar Yossi Keshet remains \"excited about speech\", _by [Amazon Science](https://www.amazon.science/working-at-amazon/why-amazon-scholar-yossi-keshet-remains-excited-about-speech)_ \\n- Improving Voice Trigger Detection with Metric Learning, _by [Apple Machine Learning](https://machinelearning.apple.com/research/improving-voice-trigger)_ \\n- NeILF: Neural Incident Light Field for Material and Lighting Estimation, _by [Apple Machine Learning](https://machinelearning.apple.com/research/neural-incident-light-field)_ \\n- Combining Compressions for Multiplicative Size Scaling on Natural Language Tasks, _by [Apple Machine Learning](https://machinelearning.apple.com/research/combining-compressions)_ \\n- CVNets: High Performance Library for Computer Vision, _by [Apple Machine Learning](https://machinelearning.apple.com/research/high-performance-library)_ \\n'"
      ]
     },
     "execution_count": 6,
     "metadata": {},
     "output_type": "execute_result"
    }
   ],
   "source": [
    "import numpy as np\n",
    "\n",
    "feeds_dict = [\n",
    "    {\"url\": \"https://deepmind.com/blog/feed/basic/\", \"blog_name\": \"DeepMind\"},\n",
    "    {'url': 'http://googleaiblog.blogspot.com/atom.xml', 'blog_name': \"Google AI\"},\n",
    "    {'url': 'https://openai.com/blog/rss/', 'blog_name': 'Open AI'},\n",
    "#     {'url': 'https://feeds.feedburner.com/nvidiablog', 'blog_name': 'NVIDIA'},\n",
    "    {'url': 'https://www.amazon.science/index.rss', 'blog_name': 'Amazon Science'},\n",
    "#     {'url': 'https://aws.amazon.com/blogs/machine-learning/feed/', 'blog_name': 'AWS Machine Learning'},\n",
    "    {'url': 'https://machinelearning.apple.com/rss.xml', 'blog_name': 'Apple Machine Learning'}\n",
    "]\n",
    "\n",
    "def format_aggregated_feeds(feeds_aggregated, category):\n",
    "\n",
    "    final_aggregated_content = f\"{category}\\n\"\\\n",
    "        \"---\\n\"\\\n",
    "\n",
    "    for item in np.array(feeds_aggregated).flatten():\n",
    "        for j in range(0, len(item)):\n",
    "            final_aggregated_content += f\"- {item[j]['title']}, _by [{item[j]['name']}]({item[j]['link']})_ \\n\"\n",
    "\n",
    "    return final_aggregated_content\n",
    "\n",
    "\n",
    "format_aggregated_feeds(batch_fetch_feeds(feeds_dict, 'Blogs'), 'Blogs')"
   ]
  },
  {
   "cell_type": "markdown",
   "metadata": {},
   "source": [
    "Blogs\\n---\\n- Advancing conservation with AI-based facial recognition of turtles, _by [DeepMind](https://www.deepmind.com/blog/advancing-conservation-with-ai-based-facial-recognition-of-turtles)_ \\n- High-Definition Segmentation in Google Meet, _by [Google AI](http://ai.googleblog.com/2022/08/high-definition-segmentation-in-google.html)_ \\n- Using ML to Boost Engagement with a Maternal and Child Health Program in India, _by [Google AI](http://ai.googleblog.com/2022/08/using-ml-to-boost-engagement-with.html)_ \\n- UVQ: Measuring YouTube\\'s Perceptual Video Quality, _by [Google AI](http://ai.googleblog.com/2022/08/uvq-measuring-youtubes-perceptual-video.html)_ \\n- Our approach to alignment research, _by [Open AI](https://openai.com/blog/our-approach-to-alignment-research/)_ \\n- Using data science to help improve NFL quarterback passing scores, _by [Amazon Science](https://www.amazon.science/working-at-amazon/elena-ehrlich-data-science-nfl-quarterback-passing-ratings)_ \\n- The science behind NFL Next Gen Stats’ new passing metric, _by [Amazon Science](https://www.amazon.science/blog/the-science-behind-nfl-next-gen-stats-new-passing-metric)_ \\n- Amazon product query competition draws more than 9,200 submissions, _by [Amazon Science](https://www.amazon.science/blog/amazon-product-query-competition-draws-more-than-9-200-submissions)_ \\n- The science behind grouping package deliveries, _by [Amazon Science](https://www.amazon.science/latest-news/the-science-behind-grouping-amazon-package-deliveries)_ \\n- Why Amazon Scholar Yossi Keshet remains \"excited about speech\", _by [Amazon Science](https://www.amazon.science/working-at-amazon/why-amazon-scholar-yossi-keshet-remains-excited-about-speech)_ \\n- Improving Voice Trigger Detection with Metric Learning, _by [Apple Machine Learning](https://machinelearning.apple.com/research/improving-voice-trigger)_ \\n- NeILF: Neural Incident Light Field for Material and Lighting Estimation, _by [Apple Machine Learning](https://machinelearning.apple.com/research/neural-incident-light-field)_ \\n- Combining Compressions for Multiplicative Size Scaling on Natural Language Tasks, _by [Apple Machine Learning](https://machinelearning.apple.com/research/combining-compressions)_ \\n- CVNets: High Performance Library for Computer Vision, _by [Apple Machine Learning](https://machinelearning.apple.com/research/high-performance-library)_ \\n"
   ]
  },
  {
   "cell_type": "code",
   "execution_count": null,
   "metadata": {},
   "outputs": [],
   "source": []
  }
 ],
 "metadata": {
  "kernelspec": {
   "display_name": "Python 3 (ipykernel)",
   "language": "python",
   "name": "python3"
  },
  "language_info": {
   "codemirror_mode": {
    "name": "ipython",
    "version": 3
   },
   "file_extension": ".py",
   "mimetype": "text/x-python",
   "name": "python",
   "nbconvert_exporter": "python",
   "pygments_lexer": "ipython3",
   "version": "3.8.12"
  },
  "toc": {
   "base_numbering": 1,
   "nav_menu": {},
   "number_sections": true,
   "sideBar": true,
   "skip_h1_title": false,
   "title_cell": "Table of Contents",
   "title_sidebar": "Contents",
   "toc_cell": false,
   "toc_position": {},
   "toc_section_display": true,
   "toc_window_display": false
  },
  "varInspector": {
   "cols": {
    "lenName": 16,
    "lenType": 16,
    "lenVar": 40
   },
   "kernels_config": {
    "python": {
     "delete_cmd_postfix": "",
     "delete_cmd_prefix": "del ",
     "library": "var_list.py",
     "varRefreshCmd": "print(var_dic_list())"
    },
    "r": {
     "delete_cmd_postfix": ") ",
     "delete_cmd_prefix": "rm(",
     "library": "var_list.r",
     "varRefreshCmd": "cat(var_dic_list()) "
    }
   },
   "types_to_exclude": [
    "module",
    "function",
    "builtin_function_or_method",
    "instance",
    "_Feature"
   ],
   "window_display": false
  },
  "vscode": {
   "interpreter": {
    "hash": "6464f9547e16090390d5ad7f8624660b835f545273984225afa459140648bc79"
   }
  }
 },
 "nbformat": 4,
 "nbformat_minor": 2
}
