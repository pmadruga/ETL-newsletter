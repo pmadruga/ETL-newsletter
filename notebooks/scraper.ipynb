{
 "cells": [
  {
   "cell_type": "code",
   "execution_count": 4,
   "id": "788ae08b",
   "metadata": {},
   "outputs": [],
   "source": [
    "import scrapy"
   ]
  },
  {
   "cell_type": "code",
   "execution_count": 14,
   "id": "df3945fe",
   "metadata": {},
   "outputs": [],
   "source": [
    "class randomSpider(scrapy.Spider):\n",
    "    name = \"helpme\"\n",
    "    allowed_domains = [\"example.com\"]\n",
    "    start_urls = ['http://example.com/categories', ]\n",
    "\n",
    "    def parse(self, response):\n",
    "        for i in response.css('div.CategoryTreeSection'):\n",
    "            # This is where you select the subcategory url\n",
    "            subcategory = i.css('Put your selector here')\n",
    "            req = scrapy.Request(subcategory, callback=self.parse_subcategory)\n",
    "            req.meta['category'] = i.css('a::text').extract_first()\n",
    "            print('derp')\n",
    "            yield req\n",
    "\n",
    "    def parse_subcategory(self, response):\n",
    "        yield {\n",
    "            'category': response.meta.get('category'),\n",
    "            # Select the name of the subcategory\n",
    "            'subcategory': response.css('Put your selector here'),\n",
    "            # Select the data of the subcategory\n",
    "            'subcategorydata': response.css('Put your selector here')\n",
    "        }"
   ]
  },
  {
   "cell_type": "code",
   "execution_count": null,
   "id": "e8110ab1",
   "metadata": {},
   "outputs": [],
   "source": []
  },
  {
   "cell_type": "code",
   "execution_count": null,
   "id": "2231908e",
   "metadata": {},
   "outputs": [],
   "source": []
  }
 ],
 "metadata": {
  "kernelspec": {
   "display_name": "Python 3",
   "language": "python",
   "name": "python3"
  },
  "language_info": {
   "codemirror_mode": {
    "name": "ipython",
    "version": 3
   },
   "file_extension": ".py",
   "mimetype": "text/x-python",
   "name": "python",
   "nbconvert_exporter": "python",
   "pygments_lexer": "ipython3",
   "version": "3.10.4"
  },
  "toc": {
   "base_numbering": 1,
   "nav_menu": {},
   "number_sections": true,
   "sideBar": true,
   "skip_h1_title": false,
   "title_cell": "Table of Contents",
   "title_sidebar": "Contents",
   "toc_cell": false,
   "toc_position": {},
   "toc_section_display": true,
   "toc_window_display": false
  },
  "varInspector": {
   "cols": {
    "lenName": 16,
    "lenType": 16,
    "lenVar": 40
   },
   "kernels_config": {
    "python": {
     "delete_cmd_postfix": "",
     "delete_cmd_prefix": "del ",
     "library": "var_list.py",
     "varRefreshCmd": "print(var_dic_list())"
    },
    "r": {
     "delete_cmd_postfix": ") ",
     "delete_cmd_prefix": "rm(",
     "library": "var_list.r",
     "varRefreshCmd": "cat(var_dic_list()) "
    }
   },
   "types_to_exclude": [
    "module",
    "function",
    "builtin_function_or_method",
    "instance",
    "_Feature"
   ],
   "window_display": false
  }
 },
 "nbformat": 4,
 "nbformat_minor": 5
}
