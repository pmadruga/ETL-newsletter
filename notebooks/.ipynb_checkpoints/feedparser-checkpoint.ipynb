{
 "cells": [
  {
   "cell_type": "code",
   "execution_count": 1,
   "metadata": {},
   "outputs": [],
   "source": [
    "import feedparser\n",
    "import datetime\n",
    "import pandas as pd"
   ]
  },
  {
   "cell_type": "code",
   "execution_count": 2,
   "metadata": {},
   "outputs": [
    {
     "data": {
      "text/plain": [
       "[Timestamp('2022-08-08 19:50:14.187180', freq='D'),\n",
       " Timestamp('2022-08-09 19:50:14.187180', freq='D'),\n",
       " Timestamp('2022-08-10 19:50:14.187180', freq='D'),\n",
       " Timestamp('2022-08-11 19:50:14.187180', freq='D'),\n",
       " Timestamp('2022-08-12 19:50:14.187180', freq='D'),\n",
       " Timestamp('2022-08-13 19:50:14.187180', freq='D'),\n",
       " Timestamp('2022-08-14 19:50:14.187180', freq='D')]"
      ]
     },
     "execution_count": 2,
     "metadata": {},
     "output_type": "execute_result"
    }
   ],
   "source": [
    "def get_week_interval():\n",
    "    today = datetime.datetime.now()\n",
    "    todays_weekday = today.weekday()\n",
    "\n",
    "    # check if end_date is a sunday\n",
    "    # check if start_date is a monday\n",
    "    end_date = today - datetime.timedelta(days=1 + todays_weekday)\n",
    "    start_date = end_date - datetime.timedelta(days=6)\n",
    "\n",
    "    return (start_date, end_date)\n",
    "\n",
    "\n",
    "# get all the dates in between and store them in a list\n",
    "def get_all_days_of_interval(start_date, end_date):\n",
    "    return [pd.to_datetime(item) for item in pd.date_range(start_date, end_date)]\n",
    "\n",
    "\n",
    "result = get_all_days_of_interval(*get_week_interval())\n",
    "\n",
    "result"
   ]
  },
  {
   "cell_type": "code",
   "execution_count": 17,
   "metadata": {},
   "outputs": [],
   "source": [
    "import time\n",
    "import feedparser\n",
    "import pandas as pd\n",
    "\n",
    "result = get_all_days_of_interval(*get_week_interval())\n",
    "\n",
    "\n",
    "def fetch_feeds(specific_url, blog_name):\n",
    "\n",
    "    uh = feedparser.parse(specific_url)\n",
    "    entries = []\n",
    "\n",
    "    for item in uh.entries:\n",
    "        # print(item.link)\n",
    "        item_date = pd.to_datetime(item.published).tz_localize(None)\n",
    "        # print(item_date)\n",
    "        first_date = result[0].tz_localize(None)\n",
    "        last_date = result[len(result)-1].tz_localize(None)\n",
    "        # print(last_date)\n",
    "\n",
    "        if (item_date > first_date) & (item_date < last_date):\n",
    "            date_formated = item_date.strftime('%y-%m-%d')\n",
    "\n",
    "            entries.append({'date': date_formated, 'title': item.title,\n",
    "                           'link': item.link, 'name': blog_name})\n",
    "\n",
    "    return entries\n",
    "\n",
    "\n",
    "# fetch_blogposts(\"http://googleaiblog.blogspot.com/atom.xml\")\n",
    "# fetch_blogposts(\"https://openai.com/blog/rss/\")\n",
    "# fetch_blogposts(\"https://feeds.feedburner.com/nvidiablog\")\n",
    "# fetch_blogposts(\"https://www.amazon.science/index.rss\")\n",
    "\n",
    "# https://aws.amazon.com/blogs/machine-learning/feed/\n",
    "# fetch_blogposts(\"https://machinelearning.apple.com/rss.xml\")\n",
    "\n",
    "# fetch_feeds(\"https://deepmind.com/blog/feed/basic/\", \"DeepMind\")"
   ]
  },
  {
   "cell_type": "code",
   "execution_count": 48,
   "metadata": {},
   "outputs": [],
   "source": [
    "def batch_fetch_feeds(feeds_dict, title):\n",
    "\n",
    "    all_feeds = []\n",
    "\n",
    "    for index, item in enumerate(feeds_dict):\n",
    "        posts_per_item = fetch_feeds(item['url'], item[\"blog_name\"])\n",
    "\n",
    "        all_feeds.append(posts_per_item)\n",
    "    return all_feeds\n"
   ]
  },
  {
   "cell_type": "code",
   "execution_count": 49,
   "metadata": {},
   "outputs": [
    {
     "name": "stdout",
     "output_type": "stream",
     "text": [
      "Blogs\n",
      "---\n",
      "- Realising scientists are the real superheroes, _by [DeepMind](https://www.deepmind.com/blog/realising-scientists-are-the-real-superheroes)_ \n",
      "- Rax: Composable Learning-to-Rank Using JAX, _by [Google AI](http://ai.googleblog.com/2022/08/rax-composable-learning-to-rank-using.html)_ \n",
      "- Efficient Video-Text Learning with Iterative Co-tokenization, _by [Google AI](http://ai.googleblog.com/2022/08/efficient-video-text-learning-with.html)_ \n",
      "- New-and-Improved Content Moderation Tooling, _by [Open AI](https://openai.com/blog/new-and-improved-content-moderation-tooling/)_ \n",
      "- From Sapling to Forest: Five Sustainability and Employment Initiatives We’re Nurturing in India, _by [NVIDIA](https://blogs.nvidia.com/blog/2022/08/12/sustainability-investments-india/)_ \n",
      "- Top Israel Medical Center Partners with AI Startups to Help Detect Brain Bleeds, Other Critical Cases, _by [NVIDIA](https://blogs.nvidia.com/blog/2022/08/11/israel-medical-center-ai-startups-radiology/)_ \n",
      "- GFN Thursday Brings Thunder to the Cloud With ‘Rumbleverse’ Arriving on GeForce NOW, _by [NVIDIA](https://blogs.nvidia.com/blog/2022/08/11/geforce-now-thursday-august-11/)_ \n",
      "- Design in the Age of Digital Twins: A Conversation With Graphics Pioneer Donald Greenberg, _by [NVIDIA](https://blogs.nvidia.com/blog/2022/08/10/greenberg-siggraph-omniverse/)_ \n",
      "- AI Flying Off the Shelves: Restocking Robot Rolls Out to Hundreds of Japanese Convenience Stores, _by [NVIDIA](https://blogs.nvidia.com/blog/2022/08/10/telexistence-convenience-store-robotics/)_ \n",
      "- Future of Creativity on Display ‘In the NVIDIA Studio’ During SIGGRAPH Special Address, _by [NVIDIA](https://blogs.nvidia.com/blog/2022/08/09/in-the-nvidia-studio-august-9/)_ \n",
      "- At SIGGRAPH, NVIDIA CEO Jensen Huang Illuminates Three Forces Sparking Graphics Revolution, _by [NVIDIA](https://blogs.nvidia.com/blog/2022/08/09/siggraph-huang-metaverse-ai/)_ \n",
      "- NVIDIA AI Makes Performance Capture Possible With Any Camera, _by [NVIDIA](https://blogs.nvidia.com/blog/2022/08/09/ai-performance-capture/)_ \n",
      "- Erran Li receives 2022 SIGMOBILE test-of-time award, _by [Amazon Science](https://www.amazon.science/latest-news/erran-li-receives-2022-sigmobile-test-of-time-award)_ \n",
      "- KDD: Graph neural networks, fairness, and inclusivity, _by [Amazon Science](https://www.amazon.science/blog/kdd-graph-neural-networks-fairness-and-inclusivity)_ \n",
      "- Amazon and UW announce inaugural Science Hub faculty research awards, _by [Amazon Science](https://www.amazon.science/academic-engagements/amazon-and-university-of-washington-announce-inaugural-science-hub-faculty-research-awards)_ \n",
      "- Reid Blackman: The ethics of AI, _by [Amazon Science](https://www.amazon.science/latest-news/reid-blackman-ethical-machines-the-ethics-of-ai)_ \n",
      "- How the Zoox robotaxi predicts everything, everywhere, all at once, _by [Amazon Science](https://www.amazon.science/latest-news/how-the-zoox-robotaxi-predicts-everything-everywhere-all-at-once)_ \n",
      "- Build an air quality anomaly detector using Amazon Lookout for Metrics, _by [AWS Machine Learning](https://aws.amazon.com/blogs/machine-learning/build-an-air-quality-anomaly-detector-using-amazon-lookout-for-metrics/)_ \n",
      "- Build a GNN-based real-time fraud detection solution using Amazon SageMaker, Amazon Neptune, and the Deep Graph Library, _by [AWS Machine Learning](https://aws.amazon.com/blogs/machine-learning/build-a-gnn-based-real-time-fraud-detection-solution-using-amazon-sagemaker-amazon-neptune-and-the-deep-graph-library/)_ \n",
      "- Use computer vision to measure agriculture yield with Amazon Rekognition Custom Labels, _by [AWS Machine Learning](https://aws.amazon.com/blogs/machine-learning/use-computer-vision-to-measure-agriculture-yield-with-amazon-rekognition-custom-labels/)_ \n",
      "- Amazon SageMaker Automatic Model Tuning now supports SageMaker Training Instance Fallbacks, _by [AWS Machine Learning](https://aws.amazon.com/blogs/machine-learning/amazon-sagemaker-automatic-model-tuning-now-supports-sagemaker-training-instance-fallbacks/)_ \n",
      "- Create Amazon SageMaker model building pipelines and deploy R models using RStudio on Amazon SageMaker, _by [AWS Machine Learning](https://aws.amazon.com/blogs/machine-learning/create-amazon-sagemaker-model-building-pipelines-and-deploy-r-models-using-rstudio-on-amazon-sagemaker/)_ \n",
      "- Benign, Tempered, or Catastrophic: A Taxonomy of Overfitting, _by [Apple Machine Learning](https://machinelearning.apple.com/research/taxonomy-overfitting)_ \n",
      "- FORML: Learning to Reweight Data for Fairness, _by [Apple Machine Learning](https://machinelearning.apple.com/research/learning-to-reweight-data)_ \n",
      "- Minimax Demographic Group Fairness in Federated Learning, _by [Apple Machine Learning](https://machinelearning.apple.com/research/minimax-demographic-group)_ \n",
      "- Device-Directed Speech Detection: Regularization via Distillation for Weakly-Supervised Models, _by [Apple Machine Learning](https://machinelearning.apple.com/research/device-directed-speech)_ \n",
      "\n"
     ]
    }
   ],
   "source": [
    "import numpy as np\n",
    "\n",
    "feeds_dict = [\n",
    "    {\"url\": \"https://deepmind.com/blog/feed/basic/\", \"blog_name\": \"DeepMind\"},\n",
    "    {'url': 'http://googleaiblog.blogspot.com/atom.xml', 'blog_name': \"Google AI\"},\n",
    "    {'url': 'https://openai.com/blog/rss/', 'blog_name': 'Open AI'},\n",
    "#     {'url': 'https://feeds.feedburner.com/nvidiablog', 'blog_name': 'NVIDIA'},\n",
    "    {'url': 'https://www.amazon.science/index.rss', 'blog_name': 'Amazon Science'},\n",
    "#     {'url': 'https://aws.amazon.com/blogs/machine-learning/feed/', 'blog_name': 'AWS Machine Learning'},\n",
    "    {'url': 'https://machinelearning.apple.com/rss.xml', 'blog_name': 'Apple Machine Learning'}\n",
    "]\n",
    "\n",
    "def format_aggregated_feeds(feeds_aggregated, category):\n",
    "\n",
    "    final_aggregated_content = f\"{category}\\n\"\\\n",
    "        \"---\\n\"\\\n",
    "\n",
    "    for item in np.array(feeds_aggregated).flatten():\n",
    "        for j in range(0, len(item)):\n",
    "            final_aggregated_content += f\"- {item[j]['title']}, _by [{item[j]['name']}]({item[j]['link']})_ \\n\"\n",
    "\n",
    "    return final_aggregated_content\n",
    "\n",
    "\n",
    "format_aggregated_feeds(batch_fetch_feeds(feeds_dict, 'Blogs'), 'Blogs')"
   ]
  },
  {
   "cell_type": "code",
   "execution_count": 29,
   "metadata": {},
   "outputs": [
    {
     "data": {
      "text/plain": [
       "[[{'date': '22-08-11',\n",
       "   'title': 'Realising scientists are the real superheroes',\n",
       "   'link': 'https://www.deepmind.com/blog/realising-scientists-are-the-real-superheroes',\n",
       "   'name': 'DeepMind'}],\n",
       " [{'date': '22-08-11',\n",
       "   'title': 'Rax: Composable Learning-to-Rank Using JAX',\n",
       "   'link': 'http://ai.googleblog.com/2022/08/rax-composable-learning-to-rank-using.html',\n",
       "   'name': 'Google AI'},\n",
       "  {'date': '22-08-09',\n",
       "   'title': 'Efficient Video-Text Learning with Iterative Co-tokenization',\n",
       "   'link': 'http://ai.googleblog.com/2022/08/efficient-video-text-learning-with.html',\n",
       "   'name': 'Google AI'}]]"
      ]
     },
     "execution_count": 29,
     "metadata": {},
     "output_type": "execute_result"
    }
   ],
   "source": []
  },
  {
   "cell_type": "code",
   "execution_count": null,
   "metadata": {},
   "outputs": [],
   "source": []
  }
 ],
 "metadata": {
  "kernelspec": {
   "display_name": "Python 3 (ipykernel)",
   "language": "python",
   "name": "python3"
  },
  "language_info": {
   "codemirror_mode": {
    "name": "ipython",
    "version": 3
   },
   "file_extension": ".py",
   "mimetype": "text/x-python",
   "name": "python",
   "nbconvert_exporter": "python",
   "pygments_lexer": "ipython3",
   "version": "3.8.12"
  },
  "toc": {
   "base_numbering": 1,
   "nav_menu": {},
   "number_sections": true,
   "sideBar": true,
   "skip_h1_title": false,
   "title_cell": "Table of Contents",
   "title_sidebar": "Contents",
   "toc_cell": false,
   "toc_position": {},
   "toc_section_display": true,
   "toc_window_display": false
  },
  "varInspector": {
   "cols": {
    "lenName": 16,
    "lenType": 16,
    "lenVar": 40
   },
   "kernels_config": {
    "python": {
     "delete_cmd_postfix": "",
     "delete_cmd_prefix": "del ",
     "library": "var_list.py",
     "varRefreshCmd": "print(var_dic_list())"
    },
    "r": {
     "delete_cmd_postfix": ") ",
     "delete_cmd_prefix": "rm(",
     "library": "var_list.r",
     "varRefreshCmd": "cat(var_dic_list()) "
    }
   },
   "types_to_exclude": [
    "module",
    "function",
    "builtin_function_or_method",
    "instance",
    "_Feature"
   ],
   "window_display": false
  },
  "vscode": {
   "interpreter": {
    "hash": "6464f9547e16090390d5ad7f8624660b835f545273984225afa459140648bc79"
   }
  }
 },
 "nbformat": 4,
 "nbformat_minor": 2
}
